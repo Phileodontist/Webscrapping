{
 "cells": [
  {
   "cell_type": "markdown",
   "metadata": {},
   "source": [
    "# Universities Wordwide Webscrapper\n",
    "\n",
    "**Website: **[Universities Worldwide](https://univ.cc/search.php?dom=world&key=&start=1)\n",
    "\n",
    "***"
   ]
  },
  {
   "cell_type": "code",
   "execution_count": null,
   "metadata": {
    "collapsed": true
   },
   "outputs": [],
   "source": [
    "from bs4 import BeautifulSoup\n",
    "from requests import get"
   ]
  },
  {
   "cell_type": "code",
   "execution_count": null,
   "metadata": {},
   "outputs": [],
   "source": [
    "# Initial url to start from\n",
    "url = \"https://univ.cc/search.php?dom=world&key=&start=1\"\n",
    "\n",
    "num_universities = 7495 # Number of matches\n",
    "current_num = 1        # Keeps track of which number to start from\n",
    "increment = 50          # Number to increment by\n",
    "universities = []       # List of universities\n",
    "\n",
    "# Iterates through each page \n",
    "while(current_num < num_universities):\n",
    "    response = get(url)\n",
    "    soup = BeautifulSoup(response.text, 'html.parser')\n",
    "    uni_objects = soup.find_all(\"li\")\n",
    "    \n",
    "    # Iterates through all list tags to extract all the University names\n",
    "    for uni in uni_objects:\n",
    "        for content in uni.contents:\n",
    "            if (len(content.contents[0]) >= 3):\n",
    "                universities.append(content.contents[0])\n",
    "\n",
    "    # Redefines the url, to scrape the next page\n",
    "    url = url[:-len(str(current_num))] + str(current_num + increment)\n",
    "    # Increments starting position\n",
    "    current_num += increment"
   ]
  },
  {
   "cell_type": "markdown",
   "metadata": {},
   "source": [
    "# Write to File"
   ]
  },
  {
   "cell_type": "code",
   "execution_count": null,
   "metadata": {
    "collapsed": true
   },
   "outputs": [],
   "source": [
    "uni_names = open(\"world_University_Names.txt\", \"w\", encoding = \"utf8\")\n",
    "for uni in universities:\n",
    "    uni_names.write(\"\\t\" + uni + \"\\n\")\n",
    "uni_names.close()"
   ]
  },
  {
   "cell_type": "code",
   "execution_count": null,
   "metadata": {},
   "outputs": [],
   "source": [
    "for uni in universities:\n",
    "    print(\"\\t\" + uni + \"\\n\")"
   ]
  }
 ],
 "metadata": {
  "kernelspec": {
   "display_name": "Python 3",
   "language": "python",
   "name": "python3"
  },
  "language_info": {
   "codemirror_mode": {
    "name": "ipython",
    "version": 3
   },
   "file_extension": ".py",
   "mimetype": "text/x-python",
   "name": "python",
   "nbconvert_exporter": "python",
   "pygments_lexer": "ipython3",
   "version": "3.6.0"
  }
 },
 "nbformat": 4,
 "nbformat_minor": 2
}
